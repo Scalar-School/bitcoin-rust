{
 "cells": [
  {
   "cell_type": "markdown",
   "id": "9e521d00-591b-4f31-b233-10d6cda08f43",
   "metadata": {},
   "source": [
    "# Introdução ao Rust e Matemática com LaTeX\n",
    "\n",
    "Neste notebook, vamos explorar alguns conceitos básicos de Rust e revisar algumas fórmulas matemáticas.\n",
    "\n",
    "## Fórmula Matemática\n",
    "\n",
    "A fórmula da equação quadrática é dada por:\n",
    "\n",
    "$$x = \\frac{-b \\pm \\sqrt{b^2 - 4ac}}{2a}$$\n"
   ]
  },
  {
   "cell_type": "code",
   "execution_count": 2,
   "id": "6b01f9ec-c0df-4e69-a43d-0ad72d6d5eca",
   "metadata": {},
   "outputs": [],
   "source": [
    "// Função simples em Rust para calcular o quadrado de um número\n",
    "fn square(x: i32) -> i32 {\n",
    "    x * x\n",
    "}\n",
    "\n",
    "fn main() {\n",
    "    let number = 4;\n",
    "    println!(\"O quadrado de {} é {}\", number, square(number));\n",
    "}\n"
   ]
  },
  {
   "cell_type": "code",
   "execution_count": 6,
   "id": "88cacf27-206a-485b-b97f-d79aaee2ef8d",
   "metadata": {},
   "outputs": [
    {
     "name": "stdout",
     "output_type": "stream",
     "text": [
      "O quadrado de 4 é 16\n"
     ]
    }
   ],
   "source": [
    "// Função simples em Rust para calcular o quadrado de um número\n",
    "fn square(x: i32) -> i32 {\n",
    "    x * x\n",
    "}\n",
    "\n",
    "// Calculando o quadrado de um número\n",
    "let number = 4;\n",
    "println!(\"O quadrado de {} é {}\", number, square(number));\n",
    "\n"
   ]
  },
  {
   "cell_type": "code",
   "execution_count": 4,
   "id": "d78d6308-e087-4ed7-b71d-0eb27ebb2765",
   "metadata": {},
   "outputs": [
    {
     "name": "stdout",
     "output_type": "stream",
     "text": [
      "Hello, Rust in Jupyter!\n"
     ]
    }
   ],
   "source": [
    "println!(\"Hello, Rust in Jupyter!\");\n"
   ]
  },
  {
   "cell_type": "code",
   "execution_count": null,
   "id": "d95ec011-008b-4d9f-8b52-52c42311dab2",
   "metadata": {},
   "outputs": [],
   "source": []
  }
 ],
 "metadata": {
  "kernelspec": {
   "display_name": "Rust",
   "language": "rust",
   "name": "rust"
  },
  "language_info": {
   "codemirror_mode": "rust",
   "file_extension": ".rs",
   "mimetype": "text/rust",
   "name": "Rust",
   "pygment_lexer": "rust",
   "version": ""
  }
 },
 "nbformat": 4,
 "nbformat_minor": 5
}
